{
 "cells": [
  {
   "cell_type": "markdown",
   "id": "a059bb82",
   "metadata": {},
   "source": [
    "# NumPy tutorial\n",
    "\n",
    "Numpy is a general-purpose array-processing package. It provides a high-performance multidimensional array object, and tools for working with these arrays. It is the fundamental package for scientific computing with Python.\n",
    "Besides its obvious scientific uses, Numpy can also be used as an efficient multi-dimensional container of generic data.\n",
    "\n",
    "\n",
    "## What is an Array?\n",
    "\n",
    "Array in Numpy is a table of elements (usually numbers), all of the same type, indexed by a tuple of positive integers. In Numpy, number of dimensions of the array is called rank of the array.A tuple of integers giving the size of the array along each dimension is known as shape of the array. An array class in Numpy is called as ndarray. Elements in Numpy arrays are accessed by using square brackets and can be initialized by using nested Python Lists.\n",
    "\n",
    "\n",
    "## Notes for some python Functions\n",
    "\n",
    "### 1. type(data)\n",
    "    it returns the type of data\n",
    "    \n",
    "### var_name.name\n",
    "    it returns data type "
   ]
  },
  {
   "cell_type": "code",
   "execution_count": 58,
   "id": "d400e4b1",
   "metadata": {},
   "outputs": [],
   "source": [
    "# Install Numpy\n",
    "# pip install numpy\n",
    "# conda install numpy"
   ]
  },
  {
   "cell_type": "code",
   "execution_count": 114,
   "id": "4528bba2",
   "metadata": {},
   "outputs": [],
   "source": [
    "# Import Numpy\n",
    "\n",
    "import numpy as np\n",
    "import math"
   ]
  },
  {
   "cell_type": "code",
   "execution_count": 5,
   "id": "8ad5895d",
   "metadata": {},
   "outputs": [
    {
     "data": {
      "text/plain": [
       "numpy.ndarray"
      ]
     },
     "execution_count": 5,
     "metadata": {},
     "output_type": "execute_result"
    }
   ],
   "source": [
    "# In Numpy, we create an array using List\n",
    "# Syntax:-\n",
    "# arr = np.array(list)\n",
    "\n",
    "arr = np.array([1,2,3]) # One dimensional Array\n",
    "\n",
    "type(arr)\n"
   ]
  },
  {
   "cell_type": "code",
   "execution_count": 7,
   "id": "373e173e",
   "metadata": {},
   "outputs": [
    {
     "data": {
      "text/plain": [
       "(3,)"
      ]
     },
     "execution_count": 7,
     "metadata": {},
     "output_type": "execute_result"
    }
   ],
   "source": [
    "arr.shape  # returns the shape of Array (Rows, Columns)"
   ]
  },
  {
   "cell_type": "markdown",
   "id": "12438d63",
   "metadata": {},
   "source": [
    "\n",
    "\n",
    "\n",
    "## Multidimensional Array\n",
    "\n",
    "**** Syntax\n",
    "\n",
    "numpy.array([\n",
    "\n",
    "    [List1],\n",
    "    [List2],\n",
    "    [List3]\n",
    "    \n",
    "    ])\n",
    "\n"
   ]
  },
  {
   "cell_type": "code",
   "execution_count": 15,
   "id": "d9b90260",
   "metadata": {},
   "outputs": [
    {
     "data": {
      "text/plain": [
       "(2, 4)"
      ]
     },
     "execution_count": 15,
     "metadata": {},
     "output_type": "execute_result"
    }
   ],
   "source": [
    "mul_arr = np.array([[1,2,4,5], [8,9,6,5]])    # multidimensional Array\n",
    "\n",
    "mul_arr.shape           # return shape of array (Rows, Columns)\n"
   ]
  },
  {
   "cell_type": "code",
   "execution_count": 18,
   "id": "15f82b51",
   "metadata": {},
   "outputs": [
    {
     "data": {
      "text/plain": [
       "array([[1, 2],\n",
       "       [4, 5],\n",
       "       [8, 9],\n",
       "       [6, 5]])"
      ]
     },
     "execution_count": 18,
     "metadata": {},
     "output_type": "execute_result"
    }
   ],
   "source": [
    "# Change shape of Array \n",
    "# We can only reshape array in Which will have same amount of elements l4,2\n",
    "mul_arr.reshape(4,2)  # note here 4 * 2 is equal to 2 * 4 "
   ]
  },
  {
   "cell_type": "code",
   "execution_count": 19,
   "id": "04c1040b",
   "metadata": {},
   "outputs": [
    {
     "data": {
      "text/plain": [
       "array([[[1, 2],\n",
       "        [4, 5]],\n",
       "\n",
       "       [[8, 9],\n",
       "        [6, 5]]])"
      ]
     },
     "execution_count": 19,
     "metadata": {},
     "output_type": "execute_result"
    }
   ],
   "source": [
    "mul_arr.reshape(2,2,2)    # also note 2 *4 is also equal to 2*2*2"
   ]
  },
  {
   "cell_type": "code",
   "execution_count": 20,
   "id": "e7b946a3",
   "metadata": {},
   "outputs": [
    {
     "ename": "ValueError",
     "evalue": "cannot reshape array of size 8 into shape (4,4)",
     "output_type": "error",
     "traceback": [
      "\u001b[1;31m---------------------------------------------------------------------------\u001b[0m",
      "\u001b[1;31mValueError\u001b[0m                                Traceback (most recent call last)",
      "\u001b[1;32m<ipython-input-20-965af93f2852>\u001b[0m in \u001b[0;36m<module>\u001b[1;34m\u001b[0m\n\u001b[0;32m      1\u001b[0m \u001b[1;31m## Errors\u001b[0m\u001b[1;33m\u001b[0m\u001b[1;33m\u001b[0m\u001b[1;33m\u001b[0m\u001b[0m\n\u001b[0;32m      2\u001b[0m \u001b[1;33m\u001b[0m\u001b[0m\n\u001b[1;32m----> 3\u001b[1;33m \u001b[0mmul_arr\u001b[0m\u001b[1;33m.\u001b[0m\u001b[0mreshape\u001b[0m\u001b[1;33m(\u001b[0m\u001b[1;36m4\u001b[0m\u001b[1;33m,\u001b[0m\u001b[1;36m4\u001b[0m\u001b[1;33m)\u001b[0m\u001b[1;33m\u001b[0m\u001b[1;33m\u001b[0m\u001b[0m\n\u001b[0m",
      "\u001b[1;31mValueError\u001b[0m: cannot reshape array of size 8 into shape (4,4)"
     ]
    }
   ],
   "source": [
    "## Errors\n",
    "\n",
    "mul_arr.reshape(4,4) # it will throw an error because Rows * columns are note equal to previous"
   ]
  },
  {
   "cell_type": "markdown",
   "id": "7419dffd",
   "metadata": {},
   "source": [
    "\n",
    "\n",
    "## Indexing of Array\n",
    "\n",
    "Access elements of Array\n",
    "\n",
    "**/ Syntax\n",
    "\n",
    "array_name[row_sclice, column_slice]\n"
   ]
  },
  {
   "cell_type": "code",
   "execution_count": 31,
   "id": "7c2dce2f",
   "metadata": {},
   "outputs": [
    {
     "data": {
      "text/plain": [
       "array([2, 3])"
      ]
     },
     "execution_count": 31,
     "metadata": {},
     "output_type": "execute_result"
    }
   ],
   "source": [
    "#Single Dimensional Array\n",
    "\n",
    "arr[0]  #return 0 th Index's element of Array arr.\n",
    "\n",
    "arr[0:3]      # Also using Slicing it will return [1, 2, 3]\n",
    "arr[1:3]      # [2, 3]"
   ]
  },
  {
   "cell_type": "code",
   "execution_count": 53,
   "id": "5f0ea162",
   "metadata": {},
   "outputs": [
    {
     "name": "stdout",
     "output_type": "stream",
     "text": [
      "[[1 2 4 5]\n",
      " [8 9 6 5]]\n"
     ]
    },
    {
     "data": {
      "text/plain": [
       "array([[8, 9, 6]])"
      ]
     },
     "execution_count": 53,
     "metadata": {},
     "output_type": "execute_result"
    }
   ],
   "source": [
    "# MultiDimensionl Array\n",
    "print(mul_arr)\n",
    "\n",
    "mul_arr[: ,1:3]          # all rows and 1 to 2 columns\n",
    "\n",
    "mul_arr[1: , 0:3]         # 1st row ans 0 to 2 columns"
   ]
  },
  {
   "cell_type": "markdown",
   "id": "800566ae",
   "metadata": {},
   "source": [
    "\n",
    "\n",
    "### arrange(start, stop, step) \n",
    "it aranges element from start to stop with steps number and \n",
    "### linspace(start, strop, num)\n",
    "\n",
    "create an array in which have (num) equally devided elements from start to end\n"
   ]
  },
  {
   "cell_type": "code",
   "execution_count": 62,
   "id": "947f9204",
   "metadata": {},
   "outputs": [
    {
     "data": {
      "text/plain": [
       "array([ 0,  3,  6,  9, 12, 15, 18, 21, 24, 27, 30, 33, 36, 39, 42, 45, 48])"
      ]
     },
     "execution_count": 62,
     "metadata": {},
     "output_type": "execute_result"
    }
   ],
   "source": [
    "arr2 = np.arange(0, 50, step = 3)\n",
    "arr2"
   ]
  },
  {
   "cell_type": "code",
   "execution_count": 66,
   "id": "a4853f1b",
   "metadata": {},
   "outputs": [
    {
     "data": {
      "text/plain": [
       "array([ 1.        ,  1.18367347,  1.36734694,  1.55102041,  1.73469388,\n",
       "        1.91836735,  2.10204082,  2.28571429,  2.46938776,  2.65306122,\n",
       "        2.83673469,  3.02040816,  3.20408163,  3.3877551 ,  3.57142857,\n",
       "        3.75510204,  3.93877551,  4.12244898,  4.30612245,  4.48979592,\n",
       "        4.67346939,  4.85714286,  5.04081633,  5.2244898 ,  5.40816327,\n",
       "        5.59183673,  5.7755102 ,  5.95918367,  6.14285714,  6.32653061,\n",
       "        6.51020408,  6.69387755,  6.87755102,  7.06122449,  7.24489796,\n",
       "        7.42857143,  7.6122449 ,  7.79591837,  7.97959184,  8.16326531,\n",
       "        8.34693878,  8.53061224,  8.71428571,  8.89795918,  9.08163265,\n",
       "        9.26530612,  9.44897959,  9.63265306,  9.81632653, 10.        ])"
      ]
     },
     "execution_count": 66,
     "metadata": {},
     "output_type": "execute_result"
    }
   ],
   "source": [
    "arr3 = np.linspace(1, 10, 50)\n",
    "arr3\n"
   ]
  },
  {
   "cell_type": "markdown",
   "id": "8cb86f6b",
   "metadata": {},
   "source": [
    "\n",
    "\n",
    "\n",
    "##  Copy arrays\n",
    "\n",
    "whenever we copy an array (lets say \n",
    "arr = np.array([1,2,4])\n",
    "arr2 = arr\n",
    "\n",
    ", it  means we're giving reference of an array in python that means both array has same array reference. If we do some task of on any array it will effect array reference and both array will be change.\n",
    "\n",
    "to do away that problem we uses\n",
    "### new_array  =  array_name.copy()    \n",
    "function"
   ]
  },
  {
   "cell_type": "code",
   "execution_count": 84,
   "id": "59d3cc2e",
   "metadata": {},
   "outputs": [
    {
     "data": {
      "text/plain": [
       "array([10, 10,  3])"
      ]
     },
     "execution_count": 84,
     "metadata": {},
     "output_type": "execute_result"
    }
   ],
   "source": [
    "copy_arr = arr.copy()              # arr = array([1,2,3])\n",
    "\n",
    "copy_arr \n",
    "\n",
    "# changing elements of copy_arr\n",
    "\n",
    "copy_arr[:2] = 10\n",
    "\n",
    "copy_arr\n"
   ]
  },
  {
   "cell_type": "markdown",
   "id": "36b5c2b4",
   "metadata": {},
   "source": [
    "\n",
    "\n",
    "\n",
    "\n",
    "\n",
    "\n",
    "\n",
    "\n",
    "\n",
    "\n",
    "\n",
    "# Some conditions very useful in Exploratry data analysis.\n",
    "\n",
    "\n",
    "## np.once((rows, columns), dtype)\n",
    "\n",
    "## np.random.rand(rows, columns)\n"
   ]
  },
  {
   "cell_type": "code",
   "execution_count": null,
   "id": "c03d1324",
   "metadata": {},
   "outputs": [],
   "source": []
  },
  {
   "cell_type": "code",
   "execution_count": 92,
   "id": "50bd6206",
   "metadata": {},
   "outputs": [
    {
     "data": {
      "text/plain": [
       "array([  0,   5,  10,  15,  20,  25,  30,  35,  40,  45,  50,  55,  60,\n",
       "        65,  70,  75,  80,  85,  90,  95, 100, 105, 110, 115, 120, 125,\n",
       "       130, 135, 140, 145, 150, 155, 160, 165, 170, 175, 180, 185, 190,\n",
       "       195, 200, 205, 210, 215, 220, 225, 230, 235, 240, 245, 250])"
      ]
     },
     "execution_count": 92,
     "metadata": {},
     "output_type": "execute_result"
    }
   ],
   "source": [
    "arr = np.arange(0, 51, step =1)\n",
    "\n",
    "arr%2\n",
    "arr<5\n",
    "arr+arr*4"
   ]
  },
  {
   "cell_type": "code",
   "execution_count": 109,
   "id": "a761fc0b",
   "metadata": {},
   "outputs": [
    {
     "data": {
      "text/plain": [
       "array([['1', '1', '1', '1', '1', '1', '1', '1', '1'],\n",
       "       ['1', '1', '1', '1', '1', '1', '1', '1', '1'],\n",
       "       ['1', '1', '1', '1', '1', '1', '1', '1', '1'],\n",
       "       ['1', '1', '1', '1', '1', '1', '1', '1', '1']], dtype='<U1')"
      ]
     },
     "execution_count": 109,
     "metadata": {},
     "output_type": "execute_result"
    }
   ],
   "source": [
    "np.ones(4, dtype=int)   # return array([1, 1, 1, 1])\n",
    "\n",
    "np.ones((2,5), dtype=float)  # returnsarray([[1., 1., 1., 1., 1.],[1., 1., 1., 1., 1.]])\n",
    "\n",
    "\n",
    "np.ones((4,9), dtype=str)   # returns array([['1', '1', '1', '1', '1', '1', '1', '1', '1']], dtype='<U1')"
   ]
  },
  {
   "cell_type": "code",
   "execution_count": 129,
   "id": "053a9c57",
   "metadata": {},
   "outputs": [
    {
     "data": {
      "text/plain": [
       "array([[42., 70., 55., 86., 30., 74., 22., 77., 12., 69.],\n",
       "       [38., 51., 42., 14., 58., 89., 80., 23.,  1., 86.]])"
      ]
     },
     "execution_count": 129,
     "metadata": {},
     "output_type": "execute_result"
    }
   ],
   "source": [
    "np.random.rand() * 100\n",
    "\n",
    "x = np.random.rand(2, 10) *100\n",
    "\n",
    "np.floor(x)"
   ]
  },
  {
   "cell_type": "code",
   "execution_count": 211,
   "id": "c4276fa4",
   "metadata": {},
   "outputs": [
    {
     "data": {
      "text/plain": [
       "array([[19, 71, 76, 87],\n",
       "       [82, 56, 27, 68]])"
      ]
     },
     "execution_count": 211,
     "metadata": {},
     "output_type": "execute_result"
    }
   ],
   "source": [
    "# random Integre value\n",
    "# np.random.randint(start, end, num)\n",
    "np.random.randint(0,100, 8).reshape(2, 4)"
   ]
  }
 ],
 "metadata": {
  "kernelspec": {
   "display_name": "Python 3",
   "language": "python",
   "name": "python3"
  },
  "language_info": {
   "codemirror_mode": {
    "name": "ipython",
    "version": 3
   },
   "file_extension": ".py",
   "mimetype": "text/x-python",
   "name": "python",
   "nbconvert_exporter": "python",
   "pygments_lexer": "ipython3",
   "version": "3.8.5"
  }
 },
 "nbformat": 4,
 "nbformat_minor": 5
}
